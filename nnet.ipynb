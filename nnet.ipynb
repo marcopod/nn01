{
 "cells": [
  {
   "cell_type": "code",
   "execution_count": 85,
   "metadata": {},
   "outputs": [],
   "source": [
    "import numpy as np\n",
    "import matplotlib.pyplot as plt\n",
    "from tensorflow.keras.datasets import mnist"
   ]
  },
  {
   "cell_type": "code",
   "execution_count": 86,
   "metadata": {},
   "outputs": [],
   "source": [
    "# Hyperparameters\n",
    "learning_rate = 0.1\n",
    "epochs = 100"
   ]
  },
  {
   "cell_type": "code",
   "execution_count": 87,
   "metadata": {},
   "outputs": [],
   "source": [
    "(X_train, Y_train), (X_test, Y_test) = mnist.load_data()\n",
    "# Convert to 784x1 vector\n",
    "X_train_flattened = X_train.reshape(X_train.shape[0], -1)\n",
    "X_test_flattened = X_test.reshape(X_test.shape[0], -1)"
   ]
  },
  {
   "cell_type": "code",
   "execution_count": 88,
   "metadata": {},
   "outputs": [
    {
     "data": {
      "image/png": "[encoded data removed]",
      "text/plain": [
       "<Figure size 640x480 with 1 Axes>"
      ]
     },
     "metadata": {},
     "output_type": "display_data"
    }
   ],
   "source": [
    "\n",
    "plt.imshow(x_train[0])\n",
    "plt.title(f'Label: {y_train[0]}')\n",
    "plt.axis('off')  # Turn off the axis labels\n",
    "plt.show()"
   ]
  },
  {
   "cell_type": "code",
   "execution_count": 89,
   "metadata": {},
   "outputs": [],
   "source": [
    "def init_params(input_size, output_size):\n",
    "    np.random.seed(69)\n",
    "    W = (np.random.rand(output_size, input_size) - 0.5) * 0.01\n",
    "    B = np.ones((output_size, 1)) * 0.1\n",
    "\n",
    "    return W, B"
   ]
  },
  {
   "cell_type": "code",
   "execution_count": 90,
   "metadata": {},
   "outputs": [],
   "source": [
    "# Output activation function\n",
    "def sigmoid(Z):\n",
    "    return 1 / (1 + np.exp(-Z))"
   ]
  },
  {
   "cell_type": "code",
   "execution_count": 91,
   "metadata": {},
   "outputs": [],
   "source": [
    "# One hot the Y values [0, 0, 0, 0, 1, 0, 0, 0, 0, 0]\n",
    "def one_hot(labels, num_classes):\n",
    "    # Array of zeroes\n",
    "    one_hot_encoded = np.zeros((labels.size, num_classes))\n",
    "    # Place the 1 in its corresponding place\n",
    "    one_hot_encoded[np.arange(labels.size), labels] = 1\n",
    "    return one_hot_encoded"
   ]
  },
  {
   "cell_type": "code",
   "execution_count": 92,
   "metadata": {},
   "outputs": [],
   "source": [
    "# Cross-Entropy Loss\n",
    "def loss(Y, A):\n",
    "    m = Y.shape[0]\n",
    "    epsilon = 1e-10\n",
    "    log_likelihood = -np.log(A[np.arange(m), Y.argmax(axis=1)] + epsilon)\n",
    "    return np.mean(log_likelihood)\n"
   ]
  },
  {
   "cell_type": "code",
   "execution_count": 93,
   "metadata": {},
   "outputs": [],
   "source": [
    "def forw_pass(X, W, B):\n",
    "    Z = np.dot(X, W.T) + B.T\n",
    "    A = sigmoid(Z)\n",
    "    \n",
    "    return Z, A\n"
   ]
  },
  {
   "cell_type": "code",
   "execution_count": 94,
   "metadata": {},
   "outputs": [],
   "source": [
    "def back_pass(X, Y, A):\n",
    "    m = X.shape[0]\n",
    "    dZ = A - Y #dL/dZ Simplification for the Cross-Entropy gradient (Output probability - Expected probability)\n",
    "    dW = np.dot(dZ.T, X) / m\n",
    "    dB = np.sum(dZ, axis=0, keepdims=True).T / m\n",
    "    return dW, dB"
   ]
  },
  {
   "cell_type": "code",
   "execution_count": 95,
   "metadata": {},
   "outputs": [],
   "source": [
    "def update_params(W, B, dW, dB, learning_rate):\n",
    "    W -= learning_rate * dW\n",
    "    B -= learning_rate * dB\n",
    "    return W, B"
   ]
  },
  {
   "cell_type": "code",
   "execution_count": 96,
   "metadata": {},
   "outputs": [],
   "source": [
    "W, B = init_params(784, 10)\n",
    "\n",
    "Y_train_encoded = one_hot(Y_train, 10)\n",
    "Y_test_encoded = one_hot(Y_test, 10)"
   ]
  },
  {
   "cell_type": "code",
   "execution_count": 98,
   "metadata": {},
   "outputs": [
    {
     "name": "stderr",
     "output_type": "stream",
     "text": [
      "C:\\Users\\Marco\\AppData\\Local\\Temp\\ipykernel_22828\\70635953.py:2: RuntimeWarning: overflow encountered in exp\n",
      "  return 1 / (1 + np.exp(-Z))\n"
     ]
    },
    {
     "name": "stdout",
     "output_type": "stream",
     "text": [
      "Epoch 1, Cost: 6.914360757664101\n",
      "Epoch 11, Cost: 5.311263945582696\n",
      "Epoch 21, Cost: 5.332309558456861\n",
      "Epoch 31, Cost: 5.172273123620499\n",
      "Epoch 41, Cost: 5.021147726457494\n",
      "Epoch 51, Cost: 5.000676572436242\n",
      "Epoch 61, Cost: 6.039928873475018\n",
      "Epoch 71, Cost: 6.385588288125648\n",
      "Epoch 81, Cost: 4.989078884700363\n",
      "Epoch 91, Cost: 4.158272364667778\n",
      "Test Loss: 3.5633918090408834\n"
     ]
    }
   ],
   "source": [
    "for epoch in range(epochs):\n",
    "    Z, A = forw_pass(X_train_flattened, W, B)\n",
    "    cost = loss(Y_train_encoded, A)\n",
    "    dW, dB = back_pass(X_train_flattened, Y_train_encoded,A)\n",
    "    W, B = update_params(W, B, dW, dB, learning_rate)\n",
    "    if (epoch % 10 == 0):\n",
    "        print(f'Epoch {epoch+1}, Cost: {cost}')\n",
    "\n",
    "    # Evaluation on test data\n",
    "Z_test, A_test = forw_pass(X_test_flattened, W, B)\n",
    "test_loss = loss(Y_test_encoded, A_test)\n",
    "print(f'Test Loss: {test_loss}')"
   ]
  },
  {
   "cell_type": "code",
   "execution_count": 133,
   "metadata": {},
   "outputs": [
    {
     "name": "stderr",
     "output_type": "stream",
     "text": [
      "C:\\Users\\Marco\\AppData\\Local\\Temp\\ipykernel_22828\\70635953.py:2: RuntimeWarning: overflow encountered in exp\n",
      "  return 1 / (1 + np.exp(-Z))\n"
     ]
    },
    {
     "data": {
      "image/png": "[encoded data removed]",
      "text/plain": [
       "<Figure size 640x480 with 2 Axes>"
      ]
     },
     "metadata": {},
     "output_type": "display_data"
    }
   ],
   "source": [
    "index = np.random.randint(0, X_test.shape[0])  # Random index\n",
    "image = X_test_flattened[index]  # Select the image\n",
    "image_reshaped = image.reshape(28, 28)  # Reshape for display\n",
    "\n",
    "# Predict the label\n",
    "prediction = forw_pass(image.reshape(1, -1), W, B)\n",
    "predicted_label = np.argmax(prediction)\n",
    "\n",
    "# Visualize the image and prediction\n",
    "plt.imshow(image_reshaped, cmap='gray')  # Display the image\n",
    "plt.title(f'Predicted: {predicted_label}, Actual: {Y_test[index]}')\n",
    "plt.colorbar()\n",
    "plt.show()"
   ]
  }
 ],
 "metadata": {
  "kernelspec": {
   "display_name": "Python 3",
   "language": "python",
   "name": "python3"
  },
  "language_info": {
   "codemirror_mode": {
    "name": "ipython",
    "version": 3
   },
   "file_extension": ".py",
   "mimetype": "text/x-python",
   "name": "python",
   "nbconvert_exporter": "python",
   "pygments_lexer": "ipython3",
   "version": "3.11.6"
  }
 },
 "nbformat": 4,
 "nbformat_minor": 2
}
